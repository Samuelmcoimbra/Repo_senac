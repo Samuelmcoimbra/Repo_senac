{
 "cells": [
  {
   "cell_type": "markdown",
   "metadata": {},
   "source": [
    "## Funções\n",
    "São blocos de código que executam uma taréfa específica\n",
    "e permitem reutilização do código"
   ]
  },
  {
   "cell_type": "code",
   "execution_count": 2,
   "metadata": {},
   "outputs": [],
   "source": [
    "def saudacao():\n",
    "    print('Bem vindo ao Senac')"
   ]
  },
  {
   "cell_type": "code",
   "execution_count": 3,
   "metadata": {},
   "outputs": [
    {
     "name": "stdout",
     "output_type": "stream",
     "text": [
      "Bem vindo ao Senac\n"
     ]
    }
   ],
   "source": [
    "saudacao()"
   ]
  },
  {
   "cell_type": "code",
   "execution_count": 2,
   "metadata": {},
   "outputs": [],
   "source": [
    "def saudacao_parametro(nome):\n",
    "    print(f'Bem vindo ao Senac, {nome}')"
   ]
  },
  {
   "cell_type": "code",
   "execution_count": 3,
   "metadata": {},
   "outputs": [
    {
     "name": "stdout",
     "output_type": "stream",
     "text": [
      "Bem vindo ao Senac, Naruto\n"
     ]
    }
   ],
   "source": [
    "nome = 'Naruto'\n",
    "saudacao_parametro(nome)"
   ]
  },
  {
   "cell_type": "markdown",
   "metadata": {},
   "source": [
    "# Função com retorno (return)"
   ]
  },
  {
   "cell_type": "code",
   "execution_count": null,
   "metadata": {},
   "outputs": [],
   "source": [
    "#def soma(a,b):\n",
    "#    return a + b"
   ]
  },
  {
   "cell_type": "code",
   "execution_count": null,
   "metadata": {},
   "outputs": [],
   "source": [
    "#resultado = soma(10,15)\n",
    "#print(resultado)"
   ]
  },
  {
   "cell_type": "markdown",
   "metadata": {},
   "source": [
    "# Função que receba a velocidade da via e aa velocidade que o veículo passou\n",
    "retorne ao cidadão o valor a ser pago"
   ]
  },
  {
   "cell_type": "code",
   "execution_count": 5,
   "metadata": {},
   "outputs": [
    {
     "name": "stdout",
     "output_type": "stream",
     "text": [
      "Você foi multado em R$ 180.00\n"
     ]
    }
   ],
   "source": [
    "velocidade = int(input('Digite a velocidade do veículo: '))\n",
    "limite = int(input('Digite o limite de velocidade da via: '))\n",
    "\n",
    "def multa(velocidade, limite):\n",
    "    if velocidade <= limite:\n",
    "        return 0\n",
    "    elif velocidade <= limite * 1.1:\n",
    "        return 180.00\n",
    "    elif velocidade <= limite * 1.3:\n",
    "        return 340.56\n",
    "    else:\n",
    "        return 480.98\n",
    "print(f'Você foi multado em R$ {multa(velocidade, limite):.2f}')"
   ]
  },
  {
   "cell_type": "code",
   "execution_count": 7,
   "metadata": {},
   "outputs": [],
   "source": [
    "sexo = input('Qual o seu sexo: M (masculino)/ F (feminino)')\n",
    "peso = float(input('Qual o seu peso: '))\n",
    "alt = int(input('Qual sua altura em centímetros: '))\n",
    "idade = int(input('Qual a sua idade: '))\n",
    "\n",
    "def TBM(a, b, c, d):\n",
    "    if a == 'M':\n",
    "        TBMm = 66,5+(13,75*b)+(5.003*c)-(6.755*d)\n",
    "        print(TBMm)\n",
    "    elif sexo == 'S':\n",
    "        TBMf = TBMm = 655.1+(9.563*b)+(1.850*c)-(4.676*d)\n",
    "        print(TBMf)\n"
   ]
  }
 ],
 "metadata": {
  "kernelspec": {
   "display_name": "Python 3",
   "language": "python",
   "name": "python3"
  },
  "language_info": {
   "codemirror_mode": {
    "name": "ipython",
    "version": 3
   },
   "file_extension": ".py",
   "mimetype": "text/x-python",
   "name": "python",
   "nbconvert_exporter": "python",
   "pygments_lexer": "ipython3",
   "version": "3.11.4"
  },
  "orig_nbformat": 4
 },
 "nbformat": 4,
 "nbformat_minor": 2
}
