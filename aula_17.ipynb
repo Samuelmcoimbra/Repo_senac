{
 "cells": [
  {
   "cell_type": "code",
   "execution_count": 1,
   "id": "045a79d4",
   "metadata": {},
   "outputs": [],
   "source": [
    "import numpy as np \n",
    "import pandas as pd\n",
    "import matplotlib.pyplot as plt"
   ]
  },
  {
   "cell_type": "code",
   "execution_count": null,
   "id": "cb5904ba",
   "metadata": {},
   "outputs": [],
   "source": [
    "df_dias = pd.DataFrame({'Dias': [ 'Segunda', 'Terça', 'Quarta', 'Quinta', 'Sexta'],\n",
    "      'Venda': [500, 200, 1000, 150, 1950]})\n",
    "\n",
    "df_produtos = pd.DataFrame({'Produtos': ['A', 'B', 'C'],\n",
    "                            'Vendas': [120, 90, 150]})\n",
    "\n",
    "# Gráfico 1 (0,0)\n",
    "fig, axs = plt.subplots(2,0, figsize= (12,8))\n",
    "axs[0, 0].plot(df_dias['Dias'], df_dias['Venda'], linestyle= '-', color= 'crimson')\n",
    "axs[0,0].set_title('Vendas por Dias')\n",
    "axs[0,0].set_xlabel('Dia da Semana')\n",
    "axs[0,0].set_ylabel('Valor Vendido')\n",
    "\n",
    "# Gráfico 2 (0,1)\n",
    "\n",
    "axs[0,1].bar(df_produtos['Produtos'], df_produtos['Vendas'],   linestyle= '-', color= 'green')\n",
    "axs[0,1].set_title('Vendas de Produtos')\n",
    "axs[0,1].set_xlabel('Produtos')\n",
    "axs[0,1].set_ylabel('Vendas')"
   ]
  }
 ],
 "metadata": {
  "kernelspec": {
   "display_name": "Python 3",
   "language": "python",
   "name": "python3"
  },
  "language_info": {
   "codemirror_mode": {
    "name": "ipython",
    "version": 3
   },
   "file_extension": ".py",
   "mimetype": "text/x-python",
   "name": "python",
   "nbconvert_exporter": "python",
   "pygments_lexer": "ipython3",
   "version": "3.11.4"
  }
 },
 "nbformat": 4,
 "nbformat_minor": 5
}
