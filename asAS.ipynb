{
 "cells": [
  {
   "cell_type": "code",
   "execution_count": 1,
   "metadata": {},
   "outputs": [
    {
     "name": "stdout",
     "output_type": "stream",
     "text": [
      "Olá\n"
     ]
    }
   ],
   "source": [
    "print('Olá')"
   ]
  },
  {
   "cell_type": "markdown",
   "metadata": {},
   "source": [
    "## Dicionário no Python"
   ]
  },
  {
   "cell_type": "code",
   "execution_count": 6,
   "metadata": {},
   "outputs": [
    {
     "name": "stdout",
     "output_type": "stream",
     "text": [
      "{'nome': 'Ana', 'idade': 19, 'nota': 9.0}\n"
     ]
    }
   ],
   "source": [
    "# Criando um dicionário\n",
    "dados = {}\n",
    "aluno = {'nome': 'Ana', 'idade': 19, 'nota' : 9.0}\n",
    "print(aluno)"
   ]
  },
  {
   "cell_type": "code",
   "execution_count": 7,
   "metadata": {},
   "outputs": [
    {
     "name": "stdout",
     "output_type": "stream",
     "text": [
      "Ana\n"
     ]
    }
   ],
   "source": [
    "# acessar valores\n",
    "print(aluno['nome'])"
   ]
  },
  {
   "cell_type": "code",
   "execution_count": 8,
   "metadata": {},
   "outputs": [
    {
     "name": "stdout",
     "output_type": "stream",
     "text": [
      "{'nome': 'Ana', 'idade': 19, 'nota': 9.5, 'turma': '3A'}\n"
     ]
    }
   ],
   "source": [
    "# adicionar ou modficar valores\n",
    "aluno['nota'] = 9.5\n",
    "aluno['turma'] = '3A'\n",
    "print(aluno)"
   ]
  },
  {
   "cell_type": "code",
   "execution_count": 9,
   "metadata": {},
   "outputs": [
    {
     "name": "stdout",
     "output_type": "stream",
     "text": [
      "{'nome': 'Ana', 'nota': 9.5, 'turma': '3A'}\n"
     ]
    }
   ],
   "source": [
    "# Remover itens\n",
    "del aluno['idade']\n",
    "print(aluno)"
   ]
  },
  {
   "cell_type": "code",
   "execution_count": 10,
   "metadata": {},
   "outputs": [
    {
     "name": "stdout",
     "output_type": "stream",
     "text": [
      "dict_keys(['nome', 'nota', 'turma'])\n",
      "dict_values(['Ana', 9.5, '3A'])\n",
      "dict_items([('nome', 'Ana'), ('nota', 9.5), ('turma', '3A')])\n"
     ]
    }
   ],
   "source": [
    "# obter apena chaes, valores ou ambos\n",
    "print(aluno.keys())\n",
    "print(aluno.values())\n",
    "print(aluno.items())"
   ]
  },
  {
   "cell_type": "code",
   "execution_count": 12,
   "metadata": {},
   "outputs": [
    {
     "name": "stdout",
     "output_type": "stream",
     "text": [
      "Nome encontrado\n"
     ]
    }
   ],
   "source": [
    "# Verificar se uma chave existe:\n",
    "if 'nome' in aluno:\n",
    "    print('Nome encontrado')"
   ]
  },
  {
   "cell_type": "code",
   "execution_count": 13,
   "metadata": {},
   "outputs": [
    {
     "name": "stdout",
     "output_type": "stream",
     "text": [
      "3\n"
     ]
    }
   ],
   "source": [
    "# Tamanho o dicionário (Quantidade de itens)\n",
    "print(len(aluno))"
   ]
  },
  {
   "cell_type": "code",
   "execution_count": null,
   "metadata": {},
   "outputs": [],
   "source": [
    "# Limpar o dicinário\n",
    "aluno.clear()\n"
   ]
  },
  {
   "cell_type": "code",
   "execution_count": 19,
   "metadata": {},
   "outputs": [
    {
     "name": "stdout",
     "output_type": "stream",
     "text": [
      "{'nome': 'Ana', 'nota': 9.5, 'turma': '3A'}\n"
     ]
    }
   ],
   "source": [
    "# Copiar dicionário\n",
    "copia = aluno.copy()\n",
    "print(copia)\n"
   ]
  },
  {
   "cell_type": "code",
   "execution_count": 21,
   "metadata": {},
   "outputs": [
    {
     "name": "stdout",
     "output_type": "stream",
     "text": [
      "nome: Ana\n",
      "nota: 9.5\n",
      "turma: 3A\n"
     ]
    }
   ],
   "source": [
    "# iterar sobre o dicionário\n",
    "for chave, valor in aluno.items():\n",
    "    print(f'{chave}: {valor}')"
   ]
  },
  {
   "cell_type": "code",
   "execution_count": 23,
   "metadata": {},
   "outputs": [
    {
     "name": "stdout",
     "output_type": "stream",
     "text": [
      "Ana\n",
      "Chave inexistente\n"
     ]
    }
   ],
   "source": [
    "# Usar get para acesar valores com segurança\n",
    "print(aluno.get('nome'))\n",
    "print(aluno.get('endreco', 'Chave inexistente'))"
   ]
  },
  {
   "cell_type": "code",
   "execution_count": 26,
   "metadata": {},
   "outputs": [
    {
     "name": "stdout",
     "output_type": "stream",
     "text": [
      "{'nome': 'Ana', 'nota': 10, 'turma': '3A', 'cidade': 'Rio de Janeiro'}\n"
     ]
    }
   ],
   "source": [
    "# Atualizar um dicionário\n",
    "dados_novos = {'nota' : 10, 'cidade' : 'Rio de Janeiro'}\n",
    "aluno.update(dados_novos)\n",
    "print(aluno)"
   ]
  },
  {
   "cell_type": "code",
   "execution_count": 27,
   "metadata": {},
   "outputs": [
    {
     "name": "stdout",
     "output_type": "stream",
     "text": [
      "{'nome': 'Ana', 'nota': 10, 'turma': '3A', 'cidade': 'Rio de Janeiro'}\n"
     ]
    }
   ],
   "source": [
    "# Apagar com retorno:\n",
    "nota = aluno.pop\n",
    "print(aluno)"
   ]
  },
  {
   "cell_type": "markdown",
   "metadata": {},
   "source": [
    "# Atividade"
   ]
  },
  {
   "cell_type": "code",
   "execution_count": 32,
   "metadata": {},
   "outputs": [
    {
     "name": "stdout",
     "output_type": "stream",
     "text": [
      "dict_items([('nome', 'Mouse'), ('preco', '49.90'), ('estoque', 25)])\n",
      "nome: Mouse\n",
      "preco: 49.90\n",
      "estoque: 25\n"
     ]
    }
   ],
   "source": [
    "produtos = {'nome' : 'Mousse', 'preco' : '49.90', 'estoque' : 25}\n",
    "print(produtos.items())\n",
    "for chave, valor in produtos.items():\n",
    "    print(f'{chave}: {valor}')"
   ]
  },
  {
   "cell_type": "code",
   "execution_count": 38,
   "metadata": {},
   "outputs": [
    {
     "name": "stdout",
     "output_type": "stream",
     "text": [
      "Chave inxistente\n"
     ]
    }
   ],
   "source": [
    "ca_usu = produtos.get(input('Digite a chave chave qu deseja cosultar: '), 'Chave inexistente')\n",
    "print(ca_usu)\n"
   ]
  },
  {
   "cell_type": "code",
   "execution_count": 41,
   "metadata": {},
   "outputs": [
    {
     "name": "stdout",
     "output_type": "stream",
     "text": [
      "{'nome': 'Mouse', 'preco': '49.90', 'estoque': 25, 'categoria': 'Informática'}\n"
     ]
    }
   ],
   "source": [
    "novos = {'categoria':'Informática'}\n",
    "produtos.update(novos)\n",
    "print(produtos)"
   ]
  },
  {
   "cell_type": "code",
   "execution_count": 42,
   "metadata": {},
   "outputs": [
    {
     "name": "stdout",
     "output_type": "stream",
     "text": [
      "{'nome': 'Mouse', 'preco': 59.9, 'estoque': 25, 'categoria': 'Informática'}\n"
     ]
    }
   ],
   "source": [
    "produtos['preco'] = 59.90\n",
    "print(produtos)"
   ]
  },
  {
   "cell_type": "code",
   "execution_count": 43,
   "metadata": {},
   "outputs": [
    {
     "name": "stdout",
     "output_type": "stream",
     "text": [
      "{'nome': 'Mouse', 'preco': 59.9, 'categoria': 'Informática'}\n"
     ]
    }
   ],
   "source": [
    "produtos.pop('estoque')\n",
    "print(produtos)"
   ]
  },
  {
   "cell_type": "code",
   "execution_count": 5,
   "metadata": {},
   "outputs": [
    {
     "name": "stdout",
     "output_type": "stream",
     "text": [
      "{'RJ': 'Rio de Janeiro', 'SP': 'São Paulo', 'MG': 'Belo Horizonte', 'Rio Grande do Sul': 'Porto Alegre', 'Paraná': 'Curitiba'}\n"
     ]
    }
   ],
   "source": [
    "capitais = {'RJ' : 'Rio de Janeiro', 'SP' : 'São Paulo', 'MG' : 'Belo Horizonte', 'Rio Grande do Sul' : 'Porto Alegre', 'Paraná' : 'Curitiba'}\n",
    "print(capitais)"
   ]
  },
  {
   "cell_type": "code",
   "execution_count": 9,
   "metadata": {},
   "outputs": [
    {
     "name": "stdout",
     "output_type": "stream",
     "text": [
      "Chave inexistente\n"
     ]
    }
   ],
   "source": [
    "cap_usu = capitais.get(input('Digite a chave que deseja consultar: ').upper(), 'Chave inexistente')\n",
    "print(cap_usu)\n"
   ]
  },
  {
   "cell_type": "code",
   "execution_count": 10,
   "metadata": {},
   "outputs": [
    {
     "name": "stdout",
     "output_type": "stream",
     "text": [
      "{'Produto': ['fogão'], 'Preço': [600.0]}\n"
     ]
    }
   ],
   "source": [
    "# Lista em dicionários\n",
    "# A lista JA DEVE ESTAR CRIADA no valor\n",
    "prod = {'Produto': [], 'Preço': []}\n",
    "\n",
    "nome_prod = input('Digite o nome do produto que deseja cadastrar: ')\n",
    "valor_pro = float(input(f'Digite o valor do produto {nome_prod}: '))\n",
    "\n",
    "prod['Produto'].append(nome_prod)\n",
    "prod['Preço'].append(valor_pro)\n",
    "print(prod)"
   ]
  },
  {
   "cell_type": "markdown",
   "metadata": {},
   "source": [
    "## Atividade"
   ]
  },
  {
   "cell_type": "code",
   "execution_count": 11,
   "metadata": {},
   "outputs": [
    {
     "name": "stdout",
     "output_type": "stream",
     "text": [
      "1 - Adicionar filme\n",
      "2 - Remover filme\n",
      "3 - Ver filmes de um usuário\n",
      "4 - Ver todos os usuários\n",
      "0 - Sair\n"
     ]
    }
   ],
   "source": [
    "# menu\n",
    "#menu = '1 - Adicionar filme\\n2 - Remover filme\\n3 - Ver filmes de um usuário\\n4 - Ver todos os usuários\\n0 - Sair'\n",
    "#print(menu)"
   ]
  },
  {
   "cell_type": "code",
   "execution_count": null,
   "metadata": {},
   "outputs": [],
   "source": [
    "# usuário\n",
    "#usu_filme = {'Usuário': [], 'Filme': []}"
   ]
  },
  {
   "cell_type": "code",
   "execution_count": 2,
   "metadata": {},
   "outputs": [],
   "source": [
    "usu_filme = {'João': [], 'Samuel': [], 'Ana': [], 'Carla': []}"
   ]
  },
  {
   "cell_type": "code",
   "execution_count": 14,
   "metadata": {},
   "outputs": [
    {
     "name": "stdout",
     "output_type": "stream",
     "text": [
      "1 - Adicionar filme\n",
      "2 - Remover filme\n",
      "3 - Ver filmes de um usuário\n",
      "4 - Ver todos os usuários\n",
      "0 - Sair\n"
     ]
    }
   ],
   "source": [
    "# menu 1 - Adicionar filme\n",
    "while True:\n",
    "    menu = '1 - Adicionar filme\\n2 - Remover filme\\n3 - Ver filmes de um usuário\\n4 - Ver todos os usuários\\n0 - Sair'\n",
    "    print(menu)\n",
    "    try:\n",
    "            opcao = int(input(\"Escolha uma opção: \"))\n",
    "            break\n",
    "    except:\n",
    "            print(\" Digite uma opção válida!\")\n",
    "match opcao:\n",
    "       case m if m == 1:\n",
    "        usuario = input('Digite o nome do usuário: ')\n",
    "        film = input('Digite o nome do filme: ')\n",
    "        if usuario in usu_filme:\n",
    "                filme = input('Digite o nome do filme que deseja adicionar: ')\n",
    "                usu_filme[usuario].append(filme)\n",
    "                print(f'Filme {filme} adicionado ao usuário {usuario}.')\n",
    "        else:\n",
    "                usu_filme[usuario] = []\n",
    "                usu_filme[usuario].append(film)\n",
    "\n",
    "              \n",
    "        \n",
    "\n",
    "               \n"
   ]
  },
  {
   "cell_type": "code",
   "execution_count": 12,
   "metadata": {},
   "outputs": [
    {
     "name": "stdout",
     "output_type": "stream",
     "text": [
      "Filme Titanic removido do usuário Samuel.\n"
     ]
    }
   ],
   "source": [
    "# menu 2 - remover filme\n",
    "match opcao:    \n",
    "    case m if m == 2:\n",
    "        usuario = input('Digite o nome do usuário: ')\n",
    "        if usuario in usu_filme:\n",
    "                    filme = input('Digite o nome do filme que deseja remover: ')\n",
    "                    if filme in usu_filme[usuario]:\n",
    "                            usu_filme[usuario].remove(filme)\n",
    "                            print(f'Filme {filme} removido do usuário {usuario}.')\n",
    "                    else:\n",
    "                            print(f'Filme {filme} não encontrado para o usuário {usuario}.')\n",
    "        else:\n",
    "                    print('Usuário não encontrado.')    \n"
   ]
  },
  {
   "cell_type": "code",
   "execution_count": 16,
   "metadata": {},
   "outputs": [
    {
     "name": "stdout",
     "output_type": "stream",
     "text": [
      "Usuário Samuel não tem filmes cadastrados.\n"
     ]
    }
   ],
   "source": [
    "# Menu 3 - Ver filmes de um usuário\n",
    "match opcao:\n",
    "    case m if m == 3:\n",
    "        usuario = input('Digite o nome do usuário:')\n",
    "        if usuario in usu_filme:\n",
    "            filmes = usu_filme[usuario]\n",
    "            if filmes:\n",
    "                print(f'Filmes do usuário {usuario}: {\", \"(filmes)}')\n",
    "            else:\n",
    "                print(f'Usuário {usuario} não tem filmes cadastrados.')"
   ]
  },
  {
   "cell_type": "code",
   "execution_count": null,
   "metadata": {},
   "outputs": [],
   "source": [
    "# Ver todos os usuários"
   ]
  }
 ],
 "metadata": {
  "kernelspec": {
   "display_name": "Python 3",
   "language": "python",
   "name": "python3"
  },
  "language_info": {
   "codemirror_mode": {
    "name": "ipython",
    "version": 3
   },
   "file_extension": ".py",
   "mimetype": "text/x-python",
   "name": "python",
   "nbconvert_exporter": "python",
   "pygments_lexer": "ipython3",
   "version": "3.11.4"
  },
  "orig_nbformat": 4
 },
 "nbformat": 4,
 "nbformat_minor": 2
}
