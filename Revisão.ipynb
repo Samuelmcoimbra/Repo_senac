{
 "cells": [
  {
   "cell_type": "markdown",
   "metadata": {},
   "source": [
    "# Análise de dados - SENAC RJ\n",
    "\n",
    "## Aula 5\n",
    " Revisão completa\n"
   ]
  },
  {
   "cell_type": "code",
   "execution_count": 13,
   "metadata": {},
   "outputs": [
    {
     "name": "stdout",
     "output_type": "stream",
     "text": [
      "O resultado da soma entre 20 e 30 é igual a 50\n"
     ]
    }
   ],
   "source": [
    "num1 = 20\n",
    "num2 = 30\n",
    "resul = num1 + num2"
   ]
  },
  {
   "cell_type": "code",
   "execution_count": 14,
   "metadata": {},
   "outputs": [
    {
     "name": "stdout",
     "output_type": "stream",
     "text": [
      "O resultado da soma entre 20 e 30 é igual a 50\n"
     ]
    }
   ],
   "source": [
    "print(f'O resultado da soma entre {num1} e {num2} é igual a {resul}')"
   ]
  },
  {
   "cell_type": "code",
   "execution_count": 17,
   "metadata": {},
   "outputs": [
    {
     "name": "stdout",
     "output_type": "stream",
     "text": [
      "30\n"
     ]
    }
   ],
   "source": [
    "num3 = int(input('Digite o primeiro número: '))\n",
    "num4 = int(input('Digite o segundo número: '))\n",
    "resultado = num3 + num4\n",
    "print(resultado)"
   ]
  },
  {
   "cell_type": "code",
   "execution_count": 20,
   "metadata": {},
   "outputs": [
    {
     "name": "stdout",
     "output_type": "stream",
     "text": [
      "Aprovado\n",
      "Sua média foi 8.17\n"
     ]
    }
   ],
   "source": [
    "# if, elif, else\n",
    "b1 = 8.5\n",
    "b2 = 7.5\n",
    "b3 = 8.9\n",
    "b4 = 7.8\n",
    "\n",
    "media = (b1 + b2 + b3 + b4) / 4\n",
    "\n",
    "if media >= 7:\n",
    "    print('Aprovado')\n",
    "elif media >= 5 and media < 7:\n",
    "    print('Recuperação')\n",
    "else:\n",
    "    print('Reprovado')\n",
    "\n",
    "print(f'Sua média foi {media:.2f}')"
   ]
  },
  {
   "cell_type": "code",
   "execution_count": 23,
   "metadata": {},
   "outputs": [
    {
     "name": "stdout",
     "output_type": "stream",
     "text": [
      "Digite um número válido\n",
      "Digite um número válido\n",
      "Digite um número válido\n"
     ]
    }
   ],
   "source": [
    "# while true com break e tratamento de erro\n",
    "while True:\n",
    "    try:\n",
    "        num3 = int(input('Digite o primeiro número: '))\n",
    "        break\n",
    "    except:\n",
    "        print('Digite um número válido')\n"
   ]
  },
  {
   "cell_type": "code",
   "execution_count": 24,
   "metadata": {},
   "outputs": [
    {
     "name": "stdout",
     "output_type": "stream",
     "text": [
      "0\n",
      "1\n",
      "2\n",
      "3\n",
      "4\n",
      "5\n"
     ]
    }
   ],
   "source": [
    "# while condicionado\n",
    "contador = 0\n",
    "while contador <= 5:\n",
    "    print(contador)\n",
    "    contador += 1"
   ]
  },
  {
   "cell_type": "code",
   "execution_count": 26,
   "metadata": {},
   "outputs": [
    {
     "name": "stdout",
     "output_type": "stream",
     "text": [
      "10\n",
      "9\n",
      "8\n",
      "7\n",
      "6\n",
      "5\n",
      "4\n",
      "3\n",
      "2\n",
      "1\n",
      "0\n"
     ]
    }
   ],
   "source": [
    "# for com range\n",
    "for i in range(10, -1, -1):\n",
    "    print(i)"
   ]
  },
  {
   "cell_type": "code",
   "execution_count": 27,
   "metadata": {},
   "outputs": [
    {
     "name": "stdout",
     "output_type": "stream",
     "text": [
      "('Fogão', 'Arroz', 'Feijão')\n"
     ]
    }
   ],
   "source": [
    "# tuplas\n",
    "produtos = ('Fogão', 'Arroz', 'Feijão')\n",
    "print(produtos)"
   ]
  },
  {
   "cell_type": "code",
   "execution_count": 36,
   "metadata": {},
   "outputs": [
    {
     "name": "stdout",
     "output_type": "stream",
     "text": [
      "Arroz\n"
     ]
    }
   ],
   "source": [
    "# Listas\n",
    "produtos = ['Fogão', 'Arroz', 'Feijão']\n",
    "preços = [899.90, 20.00, 7.50]  \n",
    "print(produtos[1])\n"
   ]
  },
  {
   "cell_type": "code",
   "execution_count": 42,
   "metadata": {},
   "outputs": [
    {
     "name": "stdout",
     "output_type": "stream",
     "text": [
      "O produto Fogão custa 899.90\n",
      "O produto Arroz custa 20.00\n",
      "O produto Feijão custa 7.50\n"
     ]
    }
   ],
   "source": [
    "# for em listas\n",
    "for i in range(len(produtos)):\n",
    "    print(f'O produto {produtos[i]} custa {preços[i]:.2f}')"
   ]
  },
  {
   "cell_type": "code",
   "execution_count": 49,
   "metadata": {},
   "outputs": [
    {
     "name": "stdout",
     "output_type": "stream",
     "text": [
      "['maçã', 'ovo', 'sabão']\n",
      "['chocolate', 'banana', 'ovo', 'sabão', 'leite', 'ovo']\n",
      "['chocolate', 'banana', 'Uva', 'sabão', 'leite', 'ovo', 'Café']\n",
      "['banana', 'Uva', 'sabão', 'leite', 'ovo', 'Café']\n"
     ]
    }
   ],
   "source": [
    "# Comandos de listas\n",
    "lista = ['chocolate', 'maçã', 'ovo', 'sabão', 'leite', 'ovo']\n",
    "#\n",
    "print(lista[1:4])\n",
    "lista[1] = 'banana'\n",
    "print(lista)\n",
    "#\n",
    "lista.append('Café')\n",
    "#\n",
    "lista.insert(2, 'Uva')\n",
    "#\n",
    "lista.remove('ovo')\n",
    "print(lista)\n",
    "#\n",
    "lista.pop(0)\n",
    "print(lista)"
   ]
  },
  {
   "cell_type": "markdown",
   "metadata": {},
   "source": [
    "# Desafio Final:\n",
    "\n",
    "# Sistema de Lista de Tarefas\n",
    "\n",
    "- Crie uma lista de tarefas.\n",
    "\n",
    "- Permita adicionar, remover e\n",
    "listar tarefas.\n",
    "\n",
    "- Use while para manter o\n",
    "programa rodando até o usuário\n",
    "decidir sair."
   ]
  },
  {
   "cell_type": "code",
   "execution_count": null,
   "metadata": {},
   "outputs": [],
   "source": [
    "tarefas = []\n",
    "\n",
    "while True:\n",
    "    tarefa = input('Digite uma tarefa para adicionar tarefas, remover para remover tarefas ou sair para finalizar: ')\n",
    "    \n",
    "    if tarefa == 'remover':\n",
    "        tarefa_remover = input('Digite a tarefa que deseja remover: ')\n",
    "        if tarefa_remover in tarefas:\n",
    "            tarefas.remove(tarefa_remover)\n",
    "            print(f'Tarefa \"{tarefa_remover}\" removida com sucesso.')\n",
    "        else:\n",
    "            print(f'Tarefa \"{tarefa_remover}\" não encontrada na lista.')\n",
    "    elif tarefa == 'sair':\n",
    "        print('Finalizando o programa.')\n",
    "        break  \n",
    "    tarefas.append(tarefa)\n",
    "    print(tarefas)\n",
    "print(f'Suas tarefas são: {tarefas}')\n"
   ]
  }
 ],
 "metadata": {
  "kernelspec": {
   "display_name": "Python 3",
   "language": "python",
   "name": "python3"
  },
  "language_info": {
   "codemirror_mode": {
    "name": "ipython",
    "version": 3
   },
   "file_extension": ".py",
   "mimetype": "text/x-python",
   "name": "python",
   "nbconvert_exporter": "python",
   "pygments_lexer": "ipython3",
   "version": "3.11.4"
  },
  "orig_nbformat": 4
 },
 "nbformat": 4,
 "nbformat_minor": 2
}
